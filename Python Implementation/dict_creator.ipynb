{
 "cells": [
  {
   "cell_type": "markdown",
   "id": "e43b3b95-8226-4a7c-ab95-051ef112862e",
   "metadata": {},
   "source": [
    "Lookup tables from:\n",
    "https://gist.github.com/dwilliamson/c041e3454a713e58baf6e4f8e5fffecd"
   ]
  },
  {
   "cell_type": "markdown",
   "id": "7391b18c-9e08-4798-a487-412e51bdf30e",
   "metadata": {},
   "source": [
    "\n",
    "Lookup Tables for Marching Cubes\n",
    "\n",
    "These tables differ from the original paper (Marching Cubes: A High Resolution 3D Surface Construction Algorithm)\n",
    "\n",
    "The co-ordinate system has the more convenient properties:\n",
    "\n",
    "   i = cube index [0, 7]\n",
    "   x = (i & 1) >> 0\n",
    "   y = (i & 2) >> 1\n",
    "   z = (i & 4) >> 2\n",
    "\n",
    " Axes are:\n",
    "\n",
    "     y\n",
    "      |     z\n",
    "      |   /\n",
    "      | /\n",
    "      +----- x\n",
    "\n",
    " Vertex and edge layout:\n",
    "\n",
    "           6             7\n",
    "            +-------------+               +-----6-------+   \n",
    "          / |           / |             / |            /|   \n",
    "        /   |         /   |          11   7         10   5\n",
    "    2 +-----+-------+  3  |         +-----+2------+     |   \n",
    "      |   4 +-------+-----+ 5       |     +-----4-+-----+   \n",
    "      |   /         |   /           3   8         1   9\n",
    "      | /           | /             | /           | /       \n",
    "    0 +-------------+ 1             +------0------+         \n",
    "\n",
    " Triangulation cases are generated prioritising rotations over inversions, which can introduce non-manifold geometry.\n"
   ]
  },
  {
   "cell_type": "code",
   "execution_count": 68,
   "id": "041c8869-c47b-4543-99a6-afee0e1b0e55",
   "metadata": {},
   "outputs": [],
   "source": [
    "# Pair of vertex indices for each edge on the cube\n",
    "EDGE_VERTEX_INDICES = [\n",
    "\t[0, 1],\n",
    "\t[1, 3],\n",
    "\t[3, 2],\n",
    "\t[2, 0],\n",
    "\t[4, 5],\n",
    "\t[5, 7],\n",
    "\t[7, 6],\n",
    "\t[6, 4],\n",
    "\t[0, 4],\n",
    "\t[1, 5],\n",
    "\t[3, 7],\n",
    "\t[2, 6],\n",
    "];"
   ]
  },
  {
   "cell_type": "code",
   "execution_count": 69,
   "id": "698cbf87-8bb4-44f4-be3a-1fb7f8d71920",
   "metadata": {},
   "outputs": [],
   "source": [
    "#For each MC case, a mask of edge indices that need to be split\n",
    "EDGE_MASKS = [\n",
    "\t0x0, 0x109, 0x203, 0x30a, 0x80c, 0x905, 0xa0f, 0xb06, \n",
    "\t0x406, 0x50f, 0x605, 0x70c, 0xc0a, 0xd03, 0xe09, 0xf00, \n",
    "\t0x190, 0x99, 0x393, 0x29a, 0x99c, 0x895, 0xb9f, 0xa96, \n",
    "\t0x596, 0x49f, 0x795, 0x69c, 0xd9a, 0xc93, 0xf99, 0xe90, \n",
    "\t0x230, 0x339, 0x33, 0x13a, 0xa3c, 0xb35, 0x83f, 0x936, \n",
    "\t0x636, 0x73f, 0x435, 0x53c, 0xe3a, 0xf33, 0xc39, 0xd30, \n",
    "\t0x3a0, 0x2a9, 0x1a3, 0xaa, 0xbac, 0xaa5, 0x9af, 0x8a6, \n",
    "\t0x7a6, 0x6af, 0x5a5, 0x4ac, 0xfaa, 0xea3, 0xda9, 0xca0, \n",
    "\t0x8c0, 0x9c9, 0xac3, 0xbca, 0xcc, 0x1c5, 0x2cf, 0x3c6, \n",
    "\t0xcc6, 0xdcf, 0xec5, 0xfcc, 0x4ca, 0x5c3, 0x6c9, 0x7c0, \n",
    "\t0x950, 0x859, 0xb53, 0xa5a, 0x15c, 0x55, 0x35f, 0x256, \n",
    "\t0xd56, 0xc5f, 0xf55, 0xe5c, 0x55a, 0x453, 0x759, 0x650, \n",
    "\t0xaf0, 0xbf9, 0x8f3, 0x9fa, 0x2fc, 0x3f5, 0xff, 0x1f6, \n",
    "\t0xef6, 0xfff, 0xcf5, 0xdfc, 0x6fa, 0x7f3, 0x4f9, 0x5f0, \n",
    "\t0xb60, 0xa69, 0x963, 0x86a, 0x36c, 0x265, 0x16f, 0x66, \n",
    "\t0xf66, 0xe6f, 0xd65, 0xc6c, 0x76a, 0x663, 0x569, 0x460, \n",
    "\t0x460, 0x569, 0x663, 0x76a, 0xc6c, 0xd65, 0xe6f, 0xf66, \n",
    "\t0x66, 0x16f, 0x265, 0x36c, 0x86a, 0x963, 0xa69, 0xb60, \n",
    "\t0x5f0, 0x4f9, 0x7f3, 0x6fa, 0xdfc, 0xcf5, 0xfff, 0xef6, \n",
    "\t0x1f6, 0xff, 0x3f5, 0x2fc, 0x9fa, 0x8f3, 0xbf9, 0xaf0, \n",
    "\t0x650, 0x759, 0x453, 0x55a, 0xe5c, 0xf55, 0xc5f, 0xd56, \n",
    "\t0x256, 0x35f, 0x55, 0x15c, 0xa5a, 0xb53, 0x859, 0x950, \n",
    "\t0x7c0, 0x6c9, 0x5c3, 0x4ca, 0xfcc, 0xec5, 0xdcf, 0xcc6, \n",
    "\t0x3c6, 0x2cf, 0x1c5, 0xcc, 0xbca, 0xac3, 0x9c9, 0x8c0, \n",
    "\t0xca0, 0xda9, 0xea3, 0xfaa, 0x4ac, 0x5a5, 0x6af, 0x7a6, \n",
    "\t0x8a6, 0x9af, 0xaa5, 0xbac, 0xaa, 0x1a3, 0x2a9, 0x3a0, \n",
    "\t0xd30, 0xc39, 0xf33, 0xe3a, 0x53c, 0x435, 0x73f, 0x636, \n",
    "\t0x936, 0x83f, 0xb35, 0xa3c, 0x13a, 0x33, 0x339, 0x230, \n",
    "\t0xe90, 0xf99, 0xc93, 0xd9a, 0x69c, 0x795, 0x49f, 0x596, \n",
    "\t0xa96, 0xb9f, 0x895, 0x99c, 0x29a, 0x393, 0x99, 0x190, \n",
    "\t0xf00, 0xe09, 0xd03, 0xc0a, 0x70c, 0x605, 0x50f, 0x406, \n",
    "\t0xb06, 0xa0f, 0x905, 0x80c, 0x30a, 0x203, 0x109, 0x0, \n",
    "];"
   ]
  },
  {
   "cell_type": "code",
   "execution_count": 70,
   "id": "36b8ed02-e5b6-494d-8f3c-55452d78ca05",
   "metadata": {},
   "outputs": [],
   "source": [
    "# For each MC case, a list of triangles, specified as triples of edge indices, terminated by -1\n",
    "TRIANGLE_TABLE = [\n",
    "\t[ -1 ],\n",
    "\t[ 0, 3, 8, -1 ],\n",
    "\t[ 0, 9, 1, -1 ],\n",
    "\t[ 3, 8, 1, 1, 8, 9, -1 ],\n",
    "\t[ 2, 11, 3, -1 ],\n",
    "\t[ 8, 0, 11, 11, 0, 2, -1 ],\n",
    "\t[ 3, 2, 11, 1, 0, 9, -1 ],\n",
    "\t[ 11, 1, 2, 11, 9, 1, 11, 8, 9, -1 ],\n",
    "\t[ 1, 10, 2, -1 ],\n",
    "\t[ 0, 3, 8, 2, 1, 10, -1 ],\n",
    "\t[ 10, 2, 9, 9, 2, 0, -1 ],\n",
    "\t[ 8, 2, 3, 8, 10, 2, 8, 9, 10, -1 ],\n",
    "\t[ 11, 3, 10, 10, 3, 1, -1 ],\n",
    "\t[ 10, 0, 1, 10, 8, 0, 10, 11, 8, -1 ],\n",
    "\t[ 9, 3, 0, 9, 11, 3, 9, 10, 11, -1 ],\n",
    "\t[ 8, 9, 11, 11, 9, 10, -1 ],\n",
    "\t[ 4, 8, 7, -1 ],\n",
    "\t[ 7, 4, 3, 3, 4, 0, -1 ],\n",
    "\t[ 4, 8, 7, 0, 9, 1, -1 ],\n",
    "\t[ 1, 4, 9, 1, 7, 4, 1, 3, 7, -1 ],\n",
    "\t[ 8, 7, 4, 11, 3, 2, -1 ],\n",
    "\t[ 4, 11, 7, 4, 2, 11, 4, 0, 2, -1 ],\n",
    "\t[ 0, 9, 1, 8, 7, 4, 11, 3, 2, -1 ],\n",
    "\t[ 7, 4, 11, 11, 4, 2, 2, 4, 9, 2, 9, 1, -1 ],\n",
    "\t[ 4, 8, 7, 2, 1, 10, -1 ],\n",
    "\t[ 7, 4, 3, 3, 4, 0, 10, 2, 1, -1 ],\n",
    "\t[ 10, 2, 9, 9, 2, 0, 7, 4, 8, -1 ],\n",
    "\t[ 10, 2, 3, 10, 3, 4, 3, 7, 4, 9, 10, 4, -1 ],\n",
    "\t[ 1, 10, 3, 3, 10, 11, 4, 8, 7, -1 ],\n",
    "\t[ 10, 11, 1, 11, 7, 4, 1, 11, 4, 1, 4, 0, -1 ],\n",
    "\t[ 7, 4, 8, 9, 3, 0, 9, 11, 3, 9, 10, 11, -1 ],\n",
    "\t[ 7, 4, 11, 4, 9, 11, 9, 10, 11, -1 ],\n",
    "\t[ 9, 4, 5, -1 ],\n",
    "\t[ 9, 4, 5, 8, 0, 3, -1 ],\n",
    "\t[ 4, 5, 0, 0, 5, 1, -1 ],\n",
    "\t[ 5, 8, 4, 5, 3, 8, 5, 1, 3, -1 ],\n",
    "\t[ 9, 4, 5, 11, 3, 2, -1 ],\n",
    "\t[ 2, 11, 0, 0, 11, 8, 5, 9, 4, -1 ],\n",
    "\t[ 4, 5, 0, 0, 5, 1, 11, 3, 2, -1 ],\n",
    "\t[ 5, 1, 4, 1, 2, 11, 4, 1, 11, 4, 11, 8, -1 ],\n",
    "\t[ 1, 10, 2, 5, 9, 4, -1 ],\n",
    "\t[ 9, 4, 5, 0, 3, 8, 2, 1, 10, -1 ],\n",
    "\t[ 2, 5, 10, 2, 4, 5, 2, 0, 4, -1 ],\n",
    "\t[ 10, 2, 5, 5, 2, 4, 4, 2, 3, 4, 3, 8, -1 ],\n",
    "\t[ 11, 3, 10, 10, 3, 1, 4, 5, 9, -1 ],\n",
    "\t[ 4, 5, 9, 10, 0, 1, 10, 8, 0, 10, 11, 8, -1 ],\n",
    "\t[ 11, 3, 0, 11, 0, 5, 0, 4, 5, 10, 11, 5, -1 ],\n",
    "\t[ 4, 5, 8, 5, 10, 8, 10, 11, 8, -1 ],\n",
    "\t[ 8, 7, 9, 9, 7, 5, -1 ],\n",
    "\t[ 3, 9, 0, 3, 5, 9, 3, 7, 5, -1 ],\n",
    "\t[ 7, 0, 8, 7, 1, 0, 7, 5, 1, -1 ],\n",
    "\t[ 7, 5, 3, 3, 5, 1, -1 ],\n",
    "\t[ 5, 9, 7, 7, 9, 8, 2, 11, 3, -1 ],\n",
    "\t[ 2, 11, 7, 2, 7, 9, 7, 5, 9, 0, 2, 9, -1 ],\n",
    "\t[ 2, 11, 3, 7, 0, 8, 7, 1, 0, 7, 5, 1, -1 ],\n",
    "\t[ 2, 11, 1, 11, 7, 1, 7, 5, 1, -1 ],\n",
    "\t[ 8, 7, 9, 9, 7, 5, 2, 1, 10, -1 ],\n",
    "\t[ 10, 2, 1, 3, 9, 0, 3, 5, 9, 3, 7, 5, -1 ],\n",
    "\t[ 7, 5, 8, 5, 10, 2, 8, 5, 2, 8, 2, 0, -1 ],\n",
    "\t[ 10, 2, 5, 2, 3, 5, 3, 7, 5, -1 ],\n",
    "\t[ 8, 7, 5, 8, 5, 9, 11, 3, 10, 3, 1, 10, -1 ],\n",
    "\t[ 5, 11, 7, 10, 11, 5, 1, 9, 0, -1 ],\n",
    "\t[ 11, 5, 10, 7, 5, 11, 8, 3, 0, -1 ],\n",
    "\t[ 5, 11, 7, 10, 11, 5, -1 ],\n",
    "\t[ 6, 7, 11, -1 ],\n",
    "\t[ 7, 11, 6, 3, 8, 0, -1 ],\n",
    "\t[ 6, 7, 11, 0, 9, 1, -1 ],\n",
    "\t[ 9, 1, 8, 8, 1, 3, 6, 7, 11, -1 ],\n",
    "\t[ 3, 2, 7, 7, 2, 6, -1 ],\n",
    "\t[ 0, 7, 8, 0, 6, 7, 0, 2, 6, -1 ],\n",
    "\t[ 6, 7, 2, 2, 7, 3, 9, 1, 0, -1 ],\n",
    "\t[ 6, 7, 8, 6, 8, 1, 8, 9, 1, 2, 6, 1, -1 ],\n",
    "\t[ 11, 6, 7, 10, 2, 1, -1 ],\n",
    "\t[ 3, 8, 0, 11, 6, 7, 10, 2, 1, -1 ],\n",
    "\t[ 0, 9, 2, 2, 9, 10, 7, 11, 6, -1 ],\n",
    "\t[ 6, 7, 11, 8, 2, 3, 8, 10, 2, 8, 9, 10, -1 ],\n",
    "\t[ 7, 10, 6, 7, 1, 10, 7, 3, 1, -1 ],\n",
    "\t[ 8, 0, 7, 7, 0, 6, 6, 0, 1, 6, 1, 10, -1 ],\n",
    "\t[ 7, 3, 6, 3, 0, 9, 6, 3, 9, 6, 9, 10, -1 ],\n",
    "\t[ 6, 7, 10, 7, 8, 10, 8, 9, 10, -1 ],\n",
    "\t[ 11, 6, 8, 8, 6, 4, -1 ],\n",
    "\t[ 6, 3, 11, 6, 0, 3, 6, 4, 0, -1 ],\n",
    "\t[ 11, 6, 8, 8, 6, 4, 1, 0, 9, -1 ],\n",
    "\t[ 1, 3, 9, 3, 11, 6, 9, 3, 6, 9, 6, 4, -1 ],\n",
    "\t[ 2, 8, 3, 2, 4, 8, 2, 6, 4, -1 ],\n",
    "\t[ 4, 0, 6, 6, 0, 2, -1 ],\n",
    "\t[ 9, 1, 0, 2, 8, 3, 2, 4, 8, 2, 6, 4, -1 ],\n",
    "\t[ 9, 1, 4, 1, 2, 4, 2, 6, 4, -1 ],\n",
    "\t[ 4, 8, 6, 6, 8, 11, 1, 10, 2, -1 ],\n",
    "\t[ 1, 10, 2, 6, 3, 11, 6, 0, 3, 6, 4, 0, -1 ],\n",
    "\t[ 11, 6, 4, 11, 4, 8, 10, 2, 9, 2, 0, 9, -1 ],\n",
    "\t[ 10, 4, 9, 6, 4, 10, 11, 2, 3, -1 ],\n",
    "\t[ 4, 8, 3, 4, 3, 10, 3, 1, 10, 6, 4, 10, -1 ],\n",
    "\t[ 1, 10, 0, 10, 6, 0, 6, 4, 0, -1 ],\n",
    "\t[ 4, 10, 6, 9, 10, 4, 0, 8, 3, -1 ],\n",
    "\t[ 4, 10, 6, 9, 10, 4, -1 ],\n",
    "\t[ 6, 7, 11, 4, 5, 9, -1 ],\n",
    "\t[ 4, 5, 9, 7, 11, 6, 3, 8, 0, -1 ],\n",
    "\t[ 1, 0, 5, 5, 0, 4, 11, 6, 7, -1 ],\n",
    "\t[ 11, 6, 7, 5, 8, 4, 5, 3, 8, 5, 1, 3, -1 ],\n",
    "\t[ 3, 2, 7, 7, 2, 6, 9, 4, 5, -1 ],\n",
    "\t[ 5, 9, 4, 0, 7, 8, 0, 6, 7, 0, 2, 6, -1 ],\n",
    "\t[ 3, 2, 6, 3, 6, 7, 1, 0, 5, 0, 4, 5, -1 ],\n",
    "\t[ 6, 1, 2, 5, 1, 6, 4, 7, 8, -1 ],\n",
    "\t[ 10, 2, 1, 6, 7, 11, 4, 5, 9, -1 ],\n",
    "\t[ 0, 3, 8, 4, 5, 9, 11, 6, 7, 10, 2, 1, -1 ],\n",
    "\t[ 7, 11, 6, 2, 5, 10, 2, 4, 5, 2, 0, 4, -1 ],\n",
    "\t[ 8, 4, 7, 5, 10, 6, 3, 11, 2, -1 ],\n",
    "\t[ 9, 4, 5, 7, 10, 6, 7, 1, 10, 7, 3, 1, -1 ],\n",
    "\t[ 10, 6, 5, 7, 8, 4, 1, 9, 0, -1 ],\n",
    "\t[ 4, 3, 0, 7, 3, 4, 6, 5, 10, -1 ],\n",
    "\t[ 10, 6, 5, 8, 4, 7, -1 ],\n",
    "\t[ 9, 6, 5, 9, 11, 6, 9, 8, 11, -1 ],\n",
    "\t[ 11, 6, 3, 3, 6, 0, 0, 6, 5, 0, 5, 9, -1 ],\n",
    "\t[ 11, 6, 5, 11, 5, 0, 5, 1, 0, 8, 11, 0, -1 ],\n",
    "\t[ 11, 6, 3, 6, 5, 3, 5, 1, 3, -1 ],\n",
    "\t[ 9, 8, 5, 8, 3, 2, 5, 8, 2, 5, 2, 6, -1 ],\n",
    "\t[ 5, 9, 6, 9, 0, 6, 0, 2, 6, -1 ],\n",
    "\t[ 1, 6, 5, 2, 6, 1, 3, 0, 8, -1 ],\n",
    "\t[ 1, 6, 5, 2, 6, 1, -1 ],\n",
    "\t[ 2, 1, 10, 9, 6, 5, 9, 11, 6, 9, 8, 11, -1 ],\n",
    "\t[ 9, 0, 1, 3, 11, 2, 5, 10, 6, -1 ],\n",
    "\t[ 11, 0, 8, 2, 0, 11, 10, 6, 5, -1 ],\n",
    "\t[ 3, 11, 2, 5, 10, 6, -1 ],\n",
    "\t[ 1, 8, 3, 9, 8, 1, 5, 10, 6, -1 ],\n",
    "\t[ 6, 5, 10, 0, 1, 9, -1 ],\n",
    "\t[ 8, 3, 0, 5, 10, 6, -1 ],\n",
    "\t[ 6, 5, 10, -1 ],\n",
    "\t[ 10, 5, 6, -1 ],\n",
    "\t[ 0, 3, 8, 6, 10, 5, -1 ],\n",
    "\t[ 10, 5, 6, 9, 1, 0, -1 ],\n",
    "\t[ 3, 8, 1, 1, 8, 9, 6, 10, 5, -1 ],\n",
    "\t[ 2, 11, 3, 6, 10, 5, -1 ],\n",
    "\t[ 8, 0, 11, 11, 0, 2, 5, 6, 10, -1 ],\n",
    "\t[ 1, 0, 9, 2, 11, 3, 6, 10, 5, -1 ],\n",
    "\t[ 5, 6, 10, 11, 1, 2, 11, 9, 1, 11, 8, 9, -1 ],\n",
    "\t[ 5, 6, 1, 1, 6, 2, -1 ],\n",
    "\t[ 5, 6, 1, 1, 6, 2, 8, 0, 3, -1 ],\n",
    "\t[ 6, 9, 5, 6, 0, 9, 6, 2, 0, -1 ],\n",
    "\t[ 6, 2, 5, 2, 3, 8, 5, 2, 8, 5, 8, 9, -1 ],\n",
    "\t[ 3, 6, 11, 3, 5, 6, 3, 1, 5, -1 ],\n",
    "\t[ 8, 0, 1, 8, 1, 6, 1, 5, 6, 11, 8, 6, -1 ],\n",
    "\t[ 11, 3, 6, 6, 3, 5, 5, 3, 0, 5, 0, 9, -1 ],\n",
    "\t[ 5, 6, 9, 6, 11, 9, 11, 8, 9, -1 ],\n",
    "\t[ 5, 6, 10, 7, 4, 8, -1 ],\n",
    "\t[ 0, 3, 4, 4, 3, 7, 10, 5, 6, -1 ],\n",
    "\t[ 5, 6, 10, 4, 8, 7, 0, 9, 1, -1 ],\n",
    "\t[ 6, 10, 5, 1, 4, 9, 1, 7, 4, 1, 3, 7, -1 ],\n",
    "\t[ 7, 4, 8, 6, 10, 5, 2, 11, 3, -1 ],\n",
    "\t[ 10, 5, 6, 4, 11, 7, 4, 2, 11, 4, 0, 2, -1 ],\n",
    "\t[ 4, 8, 7, 6, 10, 5, 3, 2, 11, 1, 0, 9, -1 ],\n",
    "\t[ 1, 2, 10, 11, 7, 6, 9, 5, 4, -1 ],\n",
    "\t[ 2, 1, 6, 6, 1, 5, 8, 7, 4, -1 ],\n",
    "\t[ 0, 3, 7, 0, 7, 4, 2, 1, 6, 1, 5, 6, -1 ],\n",
    "\t[ 8, 7, 4, 6, 9, 5, 6, 0, 9, 6, 2, 0, -1 ],\n",
    "\t[ 7, 2, 3, 6, 2, 7, 5, 4, 9, -1 ],\n",
    "\t[ 4, 8, 7, 3, 6, 11, 3, 5, 6, 3, 1, 5, -1 ],\n",
    "\t[ 5, 0, 1, 4, 0, 5, 7, 6, 11, -1 ],\n",
    "\t[ 9, 5, 4, 6, 11, 7, 0, 8, 3, -1 ],\n",
    "\t[ 11, 7, 6, 9, 5, 4, -1 ],\n",
    "\t[ 6, 10, 4, 4, 10, 9, -1 ],\n",
    "\t[ 6, 10, 4, 4, 10, 9, 3, 8, 0, -1 ],\n",
    "\t[ 0, 10, 1, 0, 6, 10, 0, 4, 6, -1 ],\n",
    "\t[ 6, 10, 1, 6, 1, 8, 1, 3, 8, 4, 6, 8, -1 ],\n",
    "\t[ 9, 4, 10, 10, 4, 6, 3, 2, 11, -1 ],\n",
    "\t[ 2, 11, 8, 2, 8, 0, 6, 10, 4, 10, 9, 4, -1 ],\n",
    "\t[ 11, 3, 2, 0, 10, 1, 0, 6, 10, 0, 4, 6, -1 ],\n",
    "\t[ 6, 8, 4, 11, 8, 6, 2, 10, 1, -1 ],\n",
    "\t[ 4, 1, 9, 4, 2, 1, 4, 6, 2, -1 ],\n",
    "\t[ 3, 8, 0, 4, 1, 9, 4, 2, 1, 4, 6, 2, -1 ],\n",
    "\t[ 6, 2, 4, 4, 2, 0, -1 ],\n",
    "\t[ 3, 8, 2, 8, 4, 2, 4, 6, 2, -1 ],\n",
    "\t[ 4, 6, 9, 6, 11, 3, 9, 6, 3, 9, 3, 1, -1 ],\n",
    "\t[ 8, 6, 11, 4, 6, 8, 9, 0, 1, -1 ],\n",
    "\t[ 11, 3, 6, 3, 0, 6, 0, 4, 6, -1 ],\n",
    "\t[ 8, 6, 11, 4, 6, 8, -1 ],\n",
    "\t[ 10, 7, 6, 10, 8, 7, 10, 9, 8, -1 ],\n",
    "\t[ 3, 7, 0, 7, 6, 10, 0, 7, 10, 0, 10, 9, -1 ],\n",
    "\t[ 6, 10, 7, 7, 10, 8, 8, 10, 1, 8, 1, 0, -1 ],\n",
    "\t[ 6, 10, 7, 10, 1, 7, 1, 3, 7, -1 ],\n",
    "\t[ 3, 2, 11, 10, 7, 6, 10, 8, 7, 10, 9, 8, -1 ],\n",
    "\t[ 2, 9, 0, 10, 9, 2, 6, 11, 7, -1 ],\n",
    "\t[ 0, 8, 3, 7, 6, 11, 1, 2, 10, -1 ],\n",
    "\t[ 7, 6, 11, 1, 2, 10, -1 ],\n",
    "\t[ 2, 1, 9, 2, 9, 7, 9, 8, 7, 6, 2, 7, -1 ],\n",
    "\t[ 2, 7, 6, 3, 7, 2, 0, 1, 9, -1 ],\n",
    "\t[ 8, 7, 0, 7, 6, 0, 6, 2, 0, -1 ],\n",
    "\t[ 7, 2, 3, 6, 2, 7, -1 ],\n",
    "\t[ 8, 1, 9, 3, 1, 8, 11, 7, 6, -1 ],\n",
    "\t[ 11, 7, 6, 1, 9, 0, -1 ],\n",
    "\t[ 6, 11, 7, 0, 8, 3, -1 ],\n",
    "\t[ 11, 7, 6, -1 ],\n",
    "\t[ 7, 11, 5, 5, 11, 10, -1 ],\n",
    "\t[ 10, 5, 11, 11, 5, 7, 0, 3, 8, -1 ],\n",
    "\t[ 7, 11, 5, 5, 11, 10, 0, 9, 1, -1 ],\n",
    "\t[ 7, 11, 10, 7, 10, 5, 3, 8, 1, 8, 9, 1, -1 ],\n",
    "\t[ 5, 2, 10, 5, 3, 2, 5, 7, 3, -1 ],\n",
    "\t[ 5, 7, 10, 7, 8, 0, 10, 7, 0, 10, 0, 2, -1 ],\n",
    "\t[ 0, 9, 1, 5, 2, 10, 5, 3, 2, 5, 7, 3, -1 ],\n",
    "\t[ 9, 7, 8, 5, 7, 9, 10, 1, 2, -1 ],\n",
    "\t[ 1, 11, 2, 1, 7, 11, 1, 5, 7, -1 ],\n",
    "\t[ 8, 0, 3, 1, 11, 2, 1, 7, 11, 1, 5, 7, -1 ],\n",
    "\t[ 7, 11, 2, 7, 2, 9, 2, 0, 9, 5, 7, 9, -1 ],\n",
    "\t[ 7, 9, 5, 8, 9, 7, 3, 11, 2, -1 ],\n",
    "\t[ 3, 1, 7, 7, 1, 5, -1 ],\n",
    "\t[ 8, 0, 7, 0, 1, 7, 1, 5, 7, -1 ],\n",
    "\t[ 0, 9, 3, 9, 5, 3, 5, 7, 3, -1 ],\n",
    "\t[ 9, 7, 8, 5, 7, 9, -1 ],\n",
    "\t[ 8, 5, 4, 8, 10, 5, 8, 11, 10, -1 ],\n",
    "\t[ 0, 3, 11, 0, 11, 5, 11, 10, 5, 4, 0, 5, -1 ],\n",
    "\t[ 1, 0, 9, 8, 5, 4, 8, 10, 5, 8, 11, 10, -1 ],\n",
    "\t[ 10, 3, 11, 1, 3, 10, 9, 5, 4, -1 ],\n",
    "\t[ 3, 2, 8, 8, 2, 4, 4, 2, 10, 4, 10, 5, -1 ],\n",
    "\t[ 10, 5, 2, 5, 4, 2, 4, 0, 2, -1 ],\n",
    "\t[ 5, 4, 9, 8, 3, 0, 10, 1, 2, -1 ],\n",
    "\t[ 2, 10, 1, 4, 9, 5, -1 ],\n",
    "\t[ 8, 11, 4, 11, 2, 1, 4, 11, 1, 4, 1, 5, -1 ],\n",
    "\t[ 0, 5, 4, 1, 5, 0, 2, 3, 11, -1 ],\n",
    "\t[ 0, 11, 2, 8, 11, 0, 4, 9, 5, -1 ],\n",
    "\t[ 5, 4, 9, 2, 3, 11, -1 ],\n",
    "\t[ 4, 8, 5, 8, 3, 5, 3, 1, 5, -1 ],\n",
    "\t[ 0, 5, 4, 1, 5, 0, -1 ],\n",
    "\t[ 5, 4, 9, 3, 0, 8, -1 ],\n",
    "\t[ 5, 4, 9, -1 ],\n",
    "\t[ 11, 4, 7, 11, 9, 4, 11, 10, 9, -1 ],\n",
    "\t[ 0, 3, 8, 11, 4, 7, 11, 9, 4, 11, 10, 9, -1 ],\n",
    "\t[ 11, 10, 7, 10, 1, 0, 7, 10, 0, 7, 0, 4, -1 ],\n",
    "\t[ 3, 10, 1, 11, 10, 3, 7, 8, 4, -1 ],\n",
    "\t[ 3, 2, 10, 3, 10, 4, 10, 9, 4, 7, 3, 4, -1 ],\n",
    "\t[ 9, 2, 10, 0, 2, 9, 8, 4, 7, -1 ],\n",
    "\t[ 3, 4, 7, 0, 4, 3, 1, 2, 10, -1 ],\n",
    "\t[ 7, 8, 4, 10, 1, 2, -1 ],\n",
    "\t[ 7, 11, 4, 4, 11, 9, 9, 11, 2, 9, 2, 1, -1 ],\n",
    "\t[ 1, 9, 0, 4, 7, 8, 2, 3, 11, -1 ],\n",
    "\t[ 7, 11, 4, 11, 2, 4, 2, 0, 4, -1 ],\n",
    "\t[ 4, 7, 8, 2, 3, 11, -1 ],\n",
    "\t[ 9, 4, 1, 4, 7, 1, 7, 3, 1, -1 ],\n",
    "\t[ 7, 8, 4, 1, 9, 0, -1 ],\n",
    "\t[ 3, 4, 7, 0, 4, 3, -1 ],\n",
    "\t[ 7, 8, 4, -1 ],\n",
    "\t[ 11, 10, 8, 8, 10, 9, -1 ],\n",
    "\t[ 0, 3, 9, 3, 11, 9, 11, 10, 9, -1 ],\n",
    "\t[ 1, 0, 10, 0, 8, 10, 8, 11, 10, -1 ],\n",
    "\t[ 10, 3, 11, 1, 3, 10, -1 ],\n",
    "\t[ 3, 2, 8, 2, 10, 8, 10, 9, 8, -1 ],\n",
    "\t[ 9, 2, 10, 0, 2, 9, -1 ],\n",
    "\t[ 8, 3, 0, 10, 1, 2, -1 ],\n",
    "\t[ 2, 10, 1, -1 ],\n",
    "\t[ 2, 1, 11, 1, 9, 11, 9, 8, 11, -1 ],\n",
    "\t[ 11, 2, 3, 9, 0, 1, -1 ],\n",
    "\t[ 11, 0, 8, 2, 0, 11, -1 ],\n",
    "\t[ 3, 11, 2, -1 ],\n",
    "\t[ 1, 8, 3, 9, 8, 1, -1 ],\n",
    "\t[ 1, 9, 0, -1 ],\n",
    "\t[ 8, 3, 0, -1 ],\n",
    "\t[ -1 ],\n",
    "];"
   ]
  },
  {
   "cell_type": "code",
   "execution_count": 71,
   "id": "3b9eab83-f9a3-4469-ae76-826a66751e8b",
   "metadata": {},
   "outputs": [],
   "source": [
    "# Target length for all sublists\n",
    "target_len = 13\n",
    "\n",
    "# Pad each sublist with 0s (or another value) up to target_len\n",
    "padded_triangle_table = [sublist + [-1]*(target_len - len(sublist)) for sublist in TRIANGLE_TABLE]"
   ]
  },
  {
   "cell_type": "code",
   "execution_count": 72,
   "id": "e78e348c-e6f8-4907-95a7-d35cad91ad60",
   "metadata": {},
   "outputs": [
    {
     "data": {
      "text/plain": [
       "list"
      ]
     },
     "execution_count": 72,
     "metadata": {},
     "output_type": "execute_result"
    }
   ],
   "source": [
    "type(EDGE_VERTEX_INDICES[0])"
   ]
  },
  {
   "cell_type": "code",
   "execution_count": 73,
   "id": "54940e37-675b-4cb1-8f48-87a2b1fbc3cd",
   "metadata": {},
   "outputs": [],
   "source": [
    "import numpy"
   ]
  },
  {
   "cell_type": "code",
   "execution_count": 74,
   "id": "a6baaadc-106a-4d1a-8271-c5a753368343",
   "metadata": {},
   "outputs": [],
   "source": [
    "edge_vertex_indices = numpy.array(EDGE_VERTEX_INDICES)\n",
    "edge_masks = numpy.array(EDGE_MASKS)\n",
    "triangle_table = numpy.array(padded_triangle_table)\n"
   ]
  },
  {
   "cell_type": "code",
   "execution_count": 75,
   "id": "4cc9b4c6-f2b7-4e42-a4dd-2662aa93e399",
   "metadata": {},
   "outputs": [],
   "source": [
    "numpy.save('edge_vertex_indices.npy', edge_vertex_indices)\n",
    "numpy.save('edge_masks.npy', edge_masks)\n",
    "numpy.save('triangle_table.npy', triangle_table)"
   ]
  },
  {
   "cell_type": "code",
   "execution_count": 76,
   "id": "f5b1a71f-0df4-4211-b929-f6f140c14c7f",
   "metadata": {},
   "outputs": [
    {
     "data": {
      "text/plain": [
       "array([[-1, -1, -1, ..., -1, -1, -1],\n",
       "       [ 0,  3,  8, ..., -1, -1, -1],\n",
       "       [ 0,  9,  1, ..., -1, -1, -1],\n",
       "       ...,\n",
       "       [ 1,  9,  0, ..., -1, -1, -1],\n",
       "       [ 8,  3,  0, ..., -1, -1, -1],\n",
       "       [-1, -1, -1, ..., -1, -1, -1]], shape=(256, 13))"
      ]
     },
     "execution_count": 76,
     "metadata": {},
     "output_type": "execute_result"
    }
   ],
   "source": [
    "triangle_table"
   ]
  },
  {
   "cell_type": "code",
   "execution_count": 82,
   "id": "f3f78554-ae20-4eaf-b4d8-80bdbead4593",
   "metadata": {},
   "outputs": [],
   "source": [
    "def generate_sdf_sphere(N=32, radius=10.0, center=None):\n",
    "    \"\"\"\n",
    "    Generate a flattened SDF of a sphere using the (x + y*N + z*N*N) indexing convention.\n",
    "    \n",
    "    Parameters:\n",
    "        N: int - number of voxels along one dimension\n",
    "        radius: float - radius of the sphere\n",
    "        center: tuple (x, y, z) - center of the sphere in voxel space\n",
    "    \n",
    "    Returns:\n",
    "        1D numpy array of float32 containing SDF values.\n",
    "    \"\"\"\n",
    "    if center is None:\n",
    "        center = (N / 2, N / 2, N / 2)\n",
    "\n",
    "    sdf = np.zeros(N * N * N, dtype=np.float32)\n",
    "    \n",
    "    for z in range(N):\n",
    "        for y in range(N):\n",
    "            for x in range(N):\n",
    "                index = x + y * N + z * N * N\n",
    "                dx = x - center[0]\n",
    "                dy = y - center[1]\n",
    "                dz = z - center[2]\n",
    "                dist = np.sqrt(dx**2 + dy**2 + dz**2)\n",
    "                sdf[index] = dist - radius  # Signed distance: <0 = inside, >0 = outside\n",
    "\n",
    "    return sdf"
   ]
  },
  {
   "cell_type": "code",
   "execution_count": 101,
   "id": "f5fa6d43-2305-4370-86d0-aeb363f0a2c6",
   "metadata": {},
   "outputs": [],
   "source": [
    "sdf = generate_sdf_sphere(N=100, radius = 30, center=None)\n",
    "sdf.tofile(\"inputs/sphere_sdf.bin\")  # Save to binary if needed"
   ]
  },
  {
   "cell_type": "code",
   "execution_count": 97,
   "id": "d400bebc-99af-46ee-9f5e-a7e535cccf97",
   "metadata": {},
   "outputs": [
    {
     "ename": "TypeError",
     "evalue": "sphereSDF() got an unexpected keyword argument 'N'",
     "output_type": "error",
     "traceback": [
      "\u001b[31m---------------------------------------------------------------------------\u001b[39m",
      "\u001b[31mTypeError\u001b[39m                                 Traceback (most recent call last)",
      "\u001b[36mCell\u001b[39m\u001b[36m \u001b[39m\u001b[32mIn[97]\u001b[39m\u001b[32m, line 3\u001b[39m\n\u001b[32m      1\u001b[39m \u001b[38;5;28;01mimport\u001b[39;00m\u001b[38;5;250m \u001b[39m\u001b[34;01mnumpy\u001b[39;00m\u001b[38;5;250m \u001b[39m\u001b[38;5;28;01mas\u001b[39;00m\u001b[38;5;250m \u001b[39m\u001b[34;01mnp\u001b[39;00m\n\u001b[32m----> \u001b[39m\u001b[32m3\u001b[39m sdf = \u001b[43msphereSDF\u001b[49m\u001b[43m(\u001b[49m\u001b[43mN\u001b[49m\u001b[43m=\u001b[49m\u001b[32;43m100\u001b[39;49m\u001b[43m,\u001b[49m\u001b[43m \u001b[49m\u001b[43mradius\u001b[49m\u001b[43m \u001b[49m\u001b[43m=\u001b[49m\u001b[43m \u001b[49m\u001b[32;43m5\u001b[39;49m\u001b[43m,\u001b[49m\u001b[43m \u001b[49m\u001b[43mcenter\u001b[49m\u001b[43m=\u001b[49m\u001b[38;5;28;43;01mNone\u001b[39;49;00m\u001b[43m)\u001b[49m\n\u001b[32m      4\u001b[39m sdf_flat = sdf.ravel(order=\u001b[33m'\u001b[39m\u001b[33mC\u001b[39m\u001b[33m'\u001b[39m)\n",
      "\u001b[31mTypeError\u001b[39m: sphereSDF() got an unexpected keyword argument 'N'"
     ]
    }
   ],
   "source": [
    "import numpy as np\n",
    "\n",
    "# sdf = sphereSDF(N=100, radius = 1, center=None)\n",
    "sdf_flat = sdf.ravel(order='C')"
   ]
  },
  {
   "cell_type": "code",
   "execution_count": 79,
   "id": "1150b4d3-8678-4da1-b105-ef649e3a80fc",
   "metadata": {},
   "outputs": [
    {
     "data": {
      "text/plain": [
       "(512,)"
      ]
     },
     "execution_count": 79,
     "metadata": {},
     "output_type": "execute_result"
    }
   ],
   "source": [
    "np.array(sdf_flat)\n",
    "sdf_flat.shape"
   ]
  },
  {
   "cell_type": "code",
   "execution_count": 80,
   "id": "96b7e193-115c-4111-8126-04e99f3b1fe6",
   "metadata": {},
   "outputs": [],
   "source": [
    "sdf_flat.astype(np.float32).tofile(\"inputs/sphere_sdf_float32.bin\")"
   ]
  },
  {
   "cell_type": "code",
   "execution_count": 67,
   "id": "73cef17c-6128-47ea-9a79-353282d42a53",
   "metadata": {},
   "outputs": [
    {
     "data": {
      "text/plain": [
       "8"
      ]
     },
     "execution_count": 67,
     "metadata": {},
     "output_type": "execute_result"
    }
   ],
   "source": [
    "round(sdf.size ** (1/3))"
   ]
  },
  {
   "cell_type": "code",
   "execution_count": 30,
   "id": "57a1a331-c448-4d2e-9dd5-5d4cd4f49262",
   "metadata": {},
   "outputs": [],
   "source": [
    "tri_table = np.load('lookup_tables/triangle_table.npy')"
   ]
  },
  {
   "cell_type": "code",
   "execution_count": 31,
   "id": "7da8ef73-c561-4a5c-b3a0-bf79d267ed22",
   "metadata": {},
   "outputs": [
    {
     "data": {
      "text/plain": [
       "array([ 2, 11,  3, -1, -1, -1, -1, -1, -1, -1, -1, -1, -1])"
      ]
     },
     "execution_count": 31,
     "metadata": {},
     "output_type": "execute_result"
    }
   ],
   "source": [
    "tri_table[4]"
   ]
  },
  {
   "cell_type": "code",
   "execution_count": 34,
   "id": "e12450ac-81c7-4768-9f93-8990b93d3c42",
   "metadata": {},
   "outputs": [
    {
     "ename": "NameError",
     "evalue": "name 'EDGE_VERTEX_INDICES' is not defined",
     "output_type": "error",
     "traceback": [
      "\u001b[31m---------------------------------------------------------------------------\u001b[39m",
      "\u001b[31mNameError\u001b[39m                                 Traceback (most recent call last)",
      "\u001b[36mCell\u001b[39m\u001b[36m \u001b[39m\u001b[32mIn[34]\u001b[39m\u001b[32m, line 1\u001b[39m\n\u001b[32m----> \u001b[39m\u001b[32m1\u001b[39m \u001b[43mEDGE_VERTEX_INDICES\u001b[49m\n",
      "\u001b[31mNameError\u001b[39m: name 'EDGE_VERTEX_INDICES' is not defined"
     ]
    }
   ],
   "source": [
    "EDGE_VERTEX_INDICES"
   ]
  },
  {
   "cell_type": "code",
   "execution_count": 95,
   "id": "1769b425-9aeb-4fee-8c8f-6bf98be7e196",
   "metadata": {},
   "outputs": [],
   "source": [
    "def torus_sdf(x, y, z, R, r):\n",
    "    q = np.sqrt(x**2 + y**2) - R\n",
    "    return np.sqrt(q**2 + z**2) - r\n",
    "\n",
    "# Parameters\n",
    "R = 3.0  # major radius\n",
    "r = 1.0  # minor radius\n",
    "L = 5.0  # grid half-length\n",
    "N = 64  # number of points per axis\n",
    "\n",
    "# Create grid coordinates\n",
    "x = np.linspace(-L, L, N)\n",
    "y = np.linspace(-L, L, N)\n",
    "z = np.linspace(-L, L, N)\n",
    "\n",
    "X, Y, Z = np.meshgrid(x, y, z, indexing='ij')\n",
    "\n",
    "# Compute SDF values on grid\n",
    "sdf_3d = torus_sdf(X, Y, Z, R, r)\n",
    "\n",
    "# Flatten to 1D array\n",
    "torus = sdf_3d.flatten()"
   ]
  },
  {
   "cell_type": "code",
   "execution_count": 96,
   "id": "ee26d351-7066-4c6b-856d-2eba91ea8796",
   "metadata": {},
   "outputs": [],
   "source": [
    "# torus = sdf_torus_1d(5, 10, 5)\n",
    "torus.tofile(\"inputs/torus_sdf.bin\")  # Save to binary if needed"
   ]
  },
  {
   "cell_type": "code",
   "execution_count": null,
   "id": "ff036868-8315-4f8e-a4f1-83e0b3a4f068",
   "metadata": {},
   "outputs": [],
   "source": []
  }
 ],
 "metadata": {
  "kernelspec": {
   "display_name": "Python 3 (ipykernel)",
   "language": "python",
   "name": "python3"
  },
  "language_info": {
   "codemirror_mode": {
    "name": "ipython",
    "version": 3
   },
   "file_extension": ".py",
   "mimetype": "text/x-python",
   "name": "python",
   "nbconvert_exporter": "python",
   "pygments_lexer": "ipython3",
   "version": "3.13.5"
  }
 },
 "nbformat": 4,
 "nbformat_minor": 5
}
